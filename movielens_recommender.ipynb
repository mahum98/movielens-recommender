{
  "nbformat": 4,
  "nbformat_minor": 0,
  "metadata": {
    "colab": {
      "provenance": []
    },
    "kernelspec": {
      "name": "python3",
      "display_name": "Python 3"
    },
    "language_info": {
      "name": "python"
    }
  },
  "cells": [
    {
      "cell_type": "markdown",
      "source": [
        "# Task 5: Movie Recommendation System  \n",
        "\n",
        "In this task, I built a **movie recommendation system** using the **MovieLens 100K dataset**.  \n",
        "The system recommends movies based on **user similarity** and **item similarity**, and I also experimented with **matrix factorization (SVD)**.\n",
        "\n",
        "Covered topics:  \n",
        "- Numpy  \n",
        "- Pandas  \n",
        "- Scikit-learn  \n",
        "- Recommendation Systems (User-Based CF, Item-Based CF, Matrix Factorization)\n"
      ],
      "metadata": {
        "id": "NmrK_EGBZKgI"
      }
    },
    {
      "cell_type": "markdown",
      "source": [
        "##Step 1: Importing Libraries\n",
        "I imported the necessary libraries to build my movie recommendation system, including pandas for data handling, numpy for numerical operations, cosine_similarity from sklearn for similarity calculations, train_test_split for data splitting, and TruncatedSVD for matrix factorization."
      ],
      "metadata": {
        "id": "-XCxeEdSZaL3"
      }
    },
    {
      "cell_type": "code",
      "execution_count": 1,
      "metadata": {
        "id": "B6wMIJJHUd0o"
      },
      "outputs": [],
      "source": [
        "import pandas as pd\n",
        "import numpy as np\n",
        "from sklearn.metrics.pairwise import cosine_similarity\n",
        "from sklearn.model_selection import train_test_split\n",
        "from sklearn.decomposition import TruncatedSVD"
      ]
    },
    {
      "cell_type": "markdown",
      "source": [
        "## Step 2: Upload,Load and Explore Dataset\n",
        "I downloaded the MovieLens 100K dataset from Kaggle.  \n",
        "It contained multiple files inside the `ml-100k` folder.  \n",
        "I uploaded the zip file to google colab and extracted its contents.\n",
        "For this task, I used `u.data` (ratings) and `u.item` (movie details)."
      ],
      "metadata": {
        "id": "5uRJ12tMZkTl"
      }
    },
    {
      "cell_type": "code",
      "source": [
        "from google.colab import files\n",
        "import zipfile\n",
        "\n",
        "# Upload the ml-100k.zip file from your laptop\n",
        "uploaded = files.upload()\n",
        "\n",
        "# Extract into a folder named \"ml-100k\"\n",
        "with zipfile.ZipFile(\"ml-100k.zip\", \"r\") as zip_ref:\n",
        "    zip_ref.extractall(\"ml-100k\")"
      ],
      "metadata": {
        "colab": {
          "base_uri": "https://localhost:8080/",
          "height": 73
        },
        "id": "C3WL431VVPjr",
        "outputId": "f66081f6-98ad-4b3f-ee49-0ac972f6b682"
      },
      "execution_count": 2,
      "outputs": [
        {
          "output_type": "display_data",
          "data": {
            "text/plain": [
              "<IPython.core.display.HTML object>"
            ],
            "text/html": [
              "\n",
              "     <input type=\"file\" id=\"files-a45fac04-ba81-4812-bc97-db22f2f45110\" name=\"files[]\" multiple disabled\n",
              "        style=\"border:none\" />\n",
              "     <output id=\"result-a45fac04-ba81-4812-bc97-db22f2f45110\">\n",
              "      Upload widget is only available when the cell has been executed in the\n",
              "      current browser session. Please rerun this cell to enable.\n",
              "      </output>\n",
              "      <script>// Copyright 2017 Google LLC\n",
              "//\n",
              "// Licensed under the Apache License, Version 2.0 (the \"License\");\n",
              "// you may not use this file except in compliance with the License.\n",
              "// You may obtain a copy of the License at\n",
              "//\n",
              "//      http://www.apache.org/licenses/LICENSE-2.0\n",
              "//\n",
              "// Unless required by applicable law or agreed to in writing, software\n",
              "// distributed under the License is distributed on an \"AS IS\" BASIS,\n",
              "// WITHOUT WARRANTIES OR CONDITIONS OF ANY KIND, either express or implied.\n",
              "// See the License for the specific language governing permissions and\n",
              "// limitations under the License.\n",
              "\n",
              "/**\n",
              " * @fileoverview Helpers for google.colab Python module.\n",
              " */\n",
              "(function(scope) {\n",
              "function span(text, styleAttributes = {}) {\n",
              "  const element = document.createElement('span');\n",
              "  element.textContent = text;\n",
              "  for (const key of Object.keys(styleAttributes)) {\n",
              "    element.style[key] = styleAttributes[key];\n",
              "  }\n",
              "  return element;\n",
              "}\n",
              "\n",
              "// Max number of bytes which will be uploaded at a time.\n",
              "const MAX_PAYLOAD_SIZE = 100 * 1024;\n",
              "\n",
              "function _uploadFiles(inputId, outputId) {\n",
              "  const steps = uploadFilesStep(inputId, outputId);\n",
              "  const outputElement = document.getElementById(outputId);\n",
              "  // Cache steps on the outputElement to make it available for the next call\n",
              "  // to uploadFilesContinue from Python.\n",
              "  outputElement.steps = steps;\n",
              "\n",
              "  return _uploadFilesContinue(outputId);\n",
              "}\n",
              "\n",
              "// This is roughly an async generator (not supported in the browser yet),\n",
              "// where there are multiple asynchronous steps and the Python side is going\n",
              "// to poll for completion of each step.\n",
              "// This uses a Promise to block the python side on completion of each step,\n",
              "// then passes the result of the previous step as the input to the next step.\n",
              "function _uploadFilesContinue(outputId) {\n",
              "  const outputElement = document.getElementById(outputId);\n",
              "  const steps = outputElement.steps;\n",
              "\n",
              "  const next = steps.next(outputElement.lastPromiseValue);\n",
              "  return Promise.resolve(next.value.promise).then((value) => {\n",
              "    // Cache the last promise value to make it available to the next\n",
              "    // step of the generator.\n",
              "    outputElement.lastPromiseValue = value;\n",
              "    return next.value.response;\n",
              "  });\n",
              "}\n",
              "\n",
              "/**\n",
              " * Generator function which is called between each async step of the upload\n",
              " * process.\n",
              " * @param {string} inputId Element ID of the input file picker element.\n",
              " * @param {string} outputId Element ID of the output display.\n",
              " * @return {!Iterable<!Object>} Iterable of next steps.\n",
              " */\n",
              "function* uploadFilesStep(inputId, outputId) {\n",
              "  const inputElement = document.getElementById(inputId);\n",
              "  inputElement.disabled = false;\n",
              "\n",
              "  const outputElement = document.getElementById(outputId);\n",
              "  outputElement.innerHTML = '';\n",
              "\n",
              "  const pickedPromise = new Promise((resolve) => {\n",
              "    inputElement.addEventListener('change', (e) => {\n",
              "      resolve(e.target.files);\n",
              "    });\n",
              "  });\n",
              "\n",
              "  const cancel = document.createElement('button');\n",
              "  inputElement.parentElement.appendChild(cancel);\n",
              "  cancel.textContent = 'Cancel upload';\n",
              "  const cancelPromise = new Promise((resolve) => {\n",
              "    cancel.onclick = () => {\n",
              "      resolve(null);\n",
              "    };\n",
              "  });\n",
              "\n",
              "  // Wait for the user to pick the files.\n",
              "  const files = yield {\n",
              "    promise: Promise.race([pickedPromise, cancelPromise]),\n",
              "    response: {\n",
              "      action: 'starting',\n",
              "    }\n",
              "  };\n",
              "\n",
              "  cancel.remove();\n",
              "\n",
              "  // Disable the input element since further picks are not allowed.\n",
              "  inputElement.disabled = true;\n",
              "\n",
              "  if (!files) {\n",
              "    return {\n",
              "      response: {\n",
              "        action: 'complete',\n",
              "      }\n",
              "    };\n",
              "  }\n",
              "\n",
              "  for (const file of files) {\n",
              "    const li = document.createElement('li');\n",
              "    li.append(span(file.name, {fontWeight: 'bold'}));\n",
              "    li.append(span(\n",
              "        `(${file.type || 'n/a'}) - ${file.size} bytes, ` +\n",
              "        `last modified: ${\n",
              "            file.lastModifiedDate ? file.lastModifiedDate.toLocaleDateString() :\n",
              "                                    'n/a'} - `));\n",
              "    const percent = span('0% done');\n",
              "    li.appendChild(percent);\n",
              "\n",
              "    outputElement.appendChild(li);\n",
              "\n",
              "    const fileDataPromise = new Promise((resolve) => {\n",
              "      const reader = new FileReader();\n",
              "      reader.onload = (e) => {\n",
              "        resolve(e.target.result);\n",
              "      };\n",
              "      reader.readAsArrayBuffer(file);\n",
              "    });\n",
              "    // Wait for the data to be ready.\n",
              "    let fileData = yield {\n",
              "      promise: fileDataPromise,\n",
              "      response: {\n",
              "        action: 'continue',\n",
              "      }\n",
              "    };\n",
              "\n",
              "    // Use a chunked sending to avoid message size limits. See b/62115660.\n",
              "    let position = 0;\n",
              "    do {\n",
              "      const length = Math.min(fileData.byteLength - position, MAX_PAYLOAD_SIZE);\n",
              "      const chunk = new Uint8Array(fileData, position, length);\n",
              "      position += length;\n",
              "\n",
              "      const base64 = btoa(String.fromCharCode.apply(null, chunk));\n",
              "      yield {\n",
              "        response: {\n",
              "          action: 'append',\n",
              "          file: file.name,\n",
              "          data: base64,\n",
              "        },\n",
              "      };\n",
              "\n",
              "      let percentDone = fileData.byteLength === 0 ?\n",
              "          100 :\n",
              "          Math.round((position / fileData.byteLength) * 100);\n",
              "      percent.textContent = `${percentDone}% done`;\n",
              "\n",
              "    } while (position < fileData.byteLength);\n",
              "  }\n",
              "\n",
              "  // All done.\n",
              "  yield {\n",
              "    response: {\n",
              "      action: 'complete',\n",
              "    }\n",
              "  };\n",
              "}\n",
              "\n",
              "scope.google = scope.google || {};\n",
              "scope.google.colab = scope.google.colab || {};\n",
              "scope.google.colab._files = {\n",
              "  _uploadFiles,\n",
              "  _uploadFilesContinue,\n",
              "};\n",
              "})(self);\n",
              "</script> "
            ]
          },
          "metadata": {}
        },
        {
          "output_type": "stream",
          "name": "stdout",
          "text": [
            "Saving ml-100k.zip to ml-100k.zip\n"
          ]
        }
      ]
    },
    {
      "cell_type": "code",
      "source": [
        "!ls ml-100k\n"
      ],
      "metadata": {
        "colab": {
          "base_uri": "https://localhost:8080/"
        },
        "id": "qLBT7OTMWkDq",
        "outputId": "f0ebd2db-c525-4b87-8ed4-7dc56eae78e2"
      },
      "execution_count": 6,
      "outputs": [
        {
          "output_type": "stream",
          "name": "stdout",
          "text": [
            "ml-100k\n"
          ]
        }
      ]
    },
    {
      "cell_type": "code",
      "source": [
        "ratings = pd.read_csv(\"ml-100k/ml-100k/u.data\", sep=\"\\t\",\n",
        "                      names=[\"user_id\", \"movie_id\", \"rating\", \"timestamp\"])\n",
        "\n",
        "movies = pd.read_csv(\"ml-100k/ml-100k/u.item\", sep=\"|\", encoding=\"latin-1\", header=None,\n",
        "                     names=[\"movie_id\", \"title\"], usecols=[0, 1])\n",
        "\n",
        "data = pd.merge(ratings, movies, on=\"movie_id\")\n",
        "data.head()\n"
      ],
      "metadata": {
        "colab": {
          "base_uri": "https://localhost:8080/",
          "height": 206
        },
        "id": "RZdxC3VvXRKJ",
        "outputId": "d218d73c-aa4e-45ec-e667-12bae5b16360"
      },
      "execution_count": 7,
      "outputs": [
        {
          "output_type": "execute_result",
          "data": {
            "text/plain": [
              "   user_id  movie_id  rating  timestamp                       title\n",
              "0      196       242       3  881250949                Kolya (1996)\n",
              "1      186       302       3  891717742    L.A. Confidential (1997)\n",
              "2       22       377       1  878887116         Heavyweights (1994)\n",
              "3      244        51       2  880606923  Legends of the Fall (1994)\n",
              "4      166       346       1  886397596         Jackie Brown (1997)"
            ],
            "text/html": [
              "\n",
              "  <div id=\"df-8f16b6e4-85ef-40fc-91a0-afb32c3121d0\" class=\"colab-df-container\">\n",
              "    <div>\n",
              "<style scoped>\n",
              "    .dataframe tbody tr th:only-of-type {\n",
              "        vertical-align: middle;\n",
              "    }\n",
              "\n",
              "    .dataframe tbody tr th {\n",
              "        vertical-align: top;\n",
              "    }\n",
              "\n",
              "    .dataframe thead th {\n",
              "        text-align: right;\n",
              "    }\n",
              "</style>\n",
              "<table border=\"1\" class=\"dataframe\">\n",
              "  <thead>\n",
              "    <tr style=\"text-align: right;\">\n",
              "      <th></th>\n",
              "      <th>user_id</th>\n",
              "      <th>movie_id</th>\n",
              "      <th>rating</th>\n",
              "      <th>timestamp</th>\n",
              "      <th>title</th>\n",
              "    </tr>\n",
              "  </thead>\n",
              "  <tbody>\n",
              "    <tr>\n",
              "      <th>0</th>\n",
              "      <td>196</td>\n",
              "      <td>242</td>\n",
              "      <td>3</td>\n",
              "      <td>881250949</td>\n",
              "      <td>Kolya (1996)</td>\n",
              "    </tr>\n",
              "    <tr>\n",
              "      <th>1</th>\n",
              "      <td>186</td>\n",
              "      <td>302</td>\n",
              "      <td>3</td>\n",
              "      <td>891717742</td>\n",
              "      <td>L.A. Confidential (1997)</td>\n",
              "    </tr>\n",
              "    <tr>\n",
              "      <th>2</th>\n",
              "      <td>22</td>\n",
              "      <td>377</td>\n",
              "      <td>1</td>\n",
              "      <td>878887116</td>\n",
              "      <td>Heavyweights (1994)</td>\n",
              "    </tr>\n",
              "    <tr>\n",
              "      <th>3</th>\n",
              "      <td>244</td>\n",
              "      <td>51</td>\n",
              "      <td>2</td>\n",
              "      <td>880606923</td>\n",
              "      <td>Legends of the Fall (1994)</td>\n",
              "    </tr>\n",
              "    <tr>\n",
              "      <th>4</th>\n",
              "      <td>166</td>\n",
              "      <td>346</td>\n",
              "      <td>1</td>\n",
              "      <td>886397596</td>\n",
              "      <td>Jackie Brown (1997)</td>\n",
              "    </tr>\n",
              "  </tbody>\n",
              "</table>\n",
              "</div>\n",
              "    <div class=\"colab-df-buttons\">\n",
              "\n",
              "  <div class=\"colab-df-container\">\n",
              "    <button class=\"colab-df-convert\" onclick=\"convertToInteractive('df-8f16b6e4-85ef-40fc-91a0-afb32c3121d0')\"\n",
              "            title=\"Convert this dataframe to an interactive table.\"\n",
              "            style=\"display:none;\">\n",
              "\n",
              "  <svg xmlns=\"http://www.w3.org/2000/svg\" height=\"24px\" viewBox=\"0 -960 960 960\">\n",
              "    <path d=\"M120-120v-720h720v720H120Zm60-500h600v-160H180v160Zm220 220h160v-160H400v160Zm0 220h160v-160H400v160ZM180-400h160v-160H180v160Zm440 0h160v-160H620v160ZM180-180h160v-160H180v160Zm440 0h160v-160H620v160Z\"/>\n",
              "  </svg>\n",
              "    </button>\n",
              "\n",
              "  <style>\n",
              "    .colab-df-container {\n",
              "      display:flex;\n",
              "      gap: 12px;\n",
              "    }\n",
              "\n",
              "    .colab-df-convert {\n",
              "      background-color: #E8F0FE;\n",
              "      border: none;\n",
              "      border-radius: 50%;\n",
              "      cursor: pointer;\n",
              "      display: none;\n",
              "      fill: #1967D2;\n",
              "      height: 32px;\n",
              "      padding: 0 0 0 0;\n",
              "      width: 32px;\n",
              "    }\n",
              "\n",
              "    .colab-df-convert:hover {\n",
              "      background-color: #E2EBFA;\n",
              "      box-shadow: 0px 1px 2px rgba(60, 64, 67, 0.3), 0px 1px 3px 1px rgba(60, 64, 67, 0.15);\n",
              "      fill: #174EA6;\n",
              "    }\n",
              "\n",
              "    .colab-df-buttons div {\n",
              "      margin-bottom: 4px;\n",
              "    }\n",
              "\n",
              "    [theme=dark] .colab-df-convert {\n",
              "      background-color: #3B4455;\n",
              "      fill: #D2E3FC;\n",
              "    }\n",
              "\n",
              "    [theme=dark] .colab-df-convert:hover {\n",
              "      background-color: #434B5C;\n",
              "      box-shadow: 0px 1px 3px 1px rgba(0, 0, 0, 0.15);\n",
              "      filter: drop-shadow(0px 1px 2px rgba(0, 0, 0, 0.3));\n",
              "      fill: #FFFFFF;\n",
              "    }\n",
              "  </style>\n",
              "\n",
              "    <script>\n",
              "      const buttonEl =\n",
              "        document.querySelector('#df-8f16b6e4-85ef-40fc-91a0-afb32c3121d0 button.colab-df-convert');\n",
              "      buttonEl.style.display =\n",
              "        google.colab.kernel.accessAllowed ? 'block' : 'none';\n",
              "\n",
              "      async function convertToInteractive(key) {\n",
              "        const element = document.querySelector('#df-8f16b6e4-85ef-40fc-91a0-afb32c3121d0');\n",
              "        const dataTable =\n",
              "          await google.colab.kernel.invokeFunction('convertToInteractive',\n",
              "                                                    [key], {});\n",
              "        if (!dataTable) return;\n",
              "\n",
              "        const docLinkHtml = 'Like what you see? Visit the ' +\n",
              "          '<a target=\"_blank\" href=https://colab.research.google.com/notebooks/data_table.ipynb>data table notebook</a>'\n",
              "          + ' to learn more about interactive tables.';\n",
              "        element.innerHTML = '';\n",
              "        dataTable['output_type'] = 'display_data';\n",
              "        await google.colab.output.renderOutput(dataTable, element);\n",
              "        const docLink = document.createElement('div');\n",
              "        docLink.innerHTML = docLinkHtml;\n",
              "        element.appendChild(docLink);\n",
              "      }\n",
              "    </script>\n",
              "  </div>\n",
              "\n",
              "\n",
              "    <div id=\"df-23b25b6a-c545-47f2-afb0-e417dd46e0fa\">\n",
              "      <button class=\"colab-df-quickchart\" onclick=\"quickchart('df-23b25b6a-c545-47f2-afb0-e417dd46e0fa')\"\n",
              "                title=\"Suggest charts\"\n",
              "                style=\"display:none;\">\n",
              "\n",
              "<svg xmlns=\"http://www.w3.org/2000/svg\" height=\"24px\"viewBox=\"0 0 24 24\"\n",
              "     width=\"24px\">\n",
              "    <g>\n",
              "        <path d=\"M19 3H5c-1.1 0-2 .9-2 2v14c0 1.1.9 2 2 2h14c1.1 0 2-.9 2-2V5c0-1.1-.9-2-2-2zM9 17H7v-7h2v7zm4 0h-2V7h2v10zm4 0h-2v-4h2v4z\"/>\n",
              "    </g>\n",
              "</svg>\n",
              "      </button>\n",
              "\n",
              "<style>\n",
              "  .colab-df-quickchart {\n",
              "      --bg-color: #E8F0FE;\n",
              "      --fill-color: #1967D2;\n",
              "      --hover-bg-color: #E2EBFA;\n",
              "      --hover-fill-color: #174EA6;\n",
              "      --disabled-fill-color: #AAA;\n",
              "      --disabled-bg-color: #DDD;\n",
              "  }\n",
              "\n",
              "  [theme=dark] .colab-df-quickchart {\n",
              "      --bg-color: #3B4455;\n",
              "      --fill-color: #D2E3FC;\n",
              "      --hover-bg-color: #434B5C;\n",
              "      --hover-fill-color: #FFFFFF;\n",
              "      --disabled-bg-color: #3B4455;\n",
              "      --disabled-fill-color: #666;\n",
              "  }\n",
              "\n",
              "  .colab-df-quickchart {\n",
              "    background-color: var(--bg-color);\n",
              "    border: none;\n",
              "    border-radius: 50%;\n",
              "    cursor: pointer;\n",
              "    display: none;\n",
              "    fill: var(--fill-color);\n",
              "    height: 32px;\n",
              "    padding: 0;\n",
              "    width: 32px;\n",
              "  }\n",
              "\n",
              "  .colab-df-quickchart:hover {\n",
              "    background-color: var(--hover-bg-color);\n",
              "    box-shadow: 0 1px 2px rgba(60, 64, 67, 0.3), 0 1px 3px 1px rgba(60, 64, 67, 0.15);\n",
              "    fill: var(--button-hover-fill-color);\n",
              "  }\n",
              "\n",
              "  .colab-df-quickchart-complete:disabled,\n",
              "  .colab-df-quickchart-complete:disabled:hover {\n",
              "    background-color: var(--disabled-bg-color);\n",
              "    fill: var(--disabled-fill-color);\n",
              "    box-shadow: none;\n",
              "  }\n",
              "\n",
              "  .colab-df-spinner {\n",
              "    border: 2px solid var(--fill-color);\n",
              "    border-color: transparent;\n",
              "    border-bottom-color: var(--fill-color);\n",
              "    animation:\n",
              "      spin 1s steps(1) infinite;\n",
              "  }\n",
              "\n",
              "  @keyframes spin {\n",
              "    0% {\n",
              "      border-color: transparent;\n",
              "      border-bottom-color: var(--fill-color);\n",
              "      border-left-color: var(--fill-color);\n",
              "    }\n",
              "    20% {\n",
              "      border-color: transparent;\n",
              "      border-left-color: var(--fill-color);\n",
              "      border-top-color: var(--fill-color);\n",
              "    }\n",
              "    30% {\n",
              "      border-color: transparent;\n",
              "      border-left-color: var(--fill-color);\n",
              "      border-top-color: var(--fill-color);\n",
              "      border-right-color: var(--fill-color);\n",
              "    }\n",
              "    40% {\n",
              "      border-color: transparent;\n",
              "      border-right-color: var(--fill-color);\n",
              "      border-top-color: var(--fill-color);\n",
              "    }\n",
              "    60% {\n",
              "      border-color: transparent;\n",
              "      border-right-color: var(--fill-color);\n",
              "    }\n",
              "    80% {\n",
              "      border-color: transparent;\n",
              "      border-right-color: var(--fill-color);\n",
              "      border-bottom-color: var(--fill-color);\n",
              "    }\n",
              "    90% {\n",
              "      border-color: transparent;\n",
              "      border-bottom-color: var(--fill-color);\n",
              "    }\n",
              "  }\n",
              "</style>\n",
              "\n",
              "      <script>\n",
              "        async function quickchart(key) {\n",
              "          const quickchartButtonEl =\n",
              "            document.querySelector('#' + key + ' button');\n",
              "          quickchartButtonEl.disabled = true;  // To prevent multiple clicks.\n",
              "          quickchartButtonEl.classList.add('colab-df-spinner');\n",
              "          try {\n",
              "            const charts = await google.colab.kernel.invokeFunction(\n",
              "                'suggestCharts', [key], {});\n",
              "          } catch (error) {\n",
              "            console.error('Error during call to suggestCharts:', error);\n",
              "          }\n",
              "          quickchartButtonEl.classList.remove('colab-df-spinner');\n",
              "          quickchartButtonEl.classList.add('colab-df-quickchart-complete');\n",
              "        }\n",
              "        (() => {\n",
              "          let quickchartButtonEl =\n",
              "            document.querySelector('#df-23b25b6a-c545-47f2-afb0-e417dd46e0fa button');\n",
              "          quickchartButtonEl.style.display =\n",
              "            google.colab.kernel.accessAllowed ? 'block' : 'none';\n",
              "        })();\n",
              "      </script>\n",
              "    </div>\n",
              "\n",
              "    </div>\n",
              "  </div>\n"
            ],
            "application/vnd.google.colaboratory.intrinsic+json": {
              "type": "dataframe",
              "variable_name": "data",
              "summary": "{\n  \"name\": \"data\",\n  \"rows\": 100000,\n  \"fields\": [\n    {\n      \"column\": \"user_id\",\n      \"properties\": {\n        \"dtype\": \"number\",\n        \"std\": 266,\n        \"min\": 1,\n        \"max\": 943,\n        \"num_unique_values\": 943,\n        \"samples\": [\n          262,\n          136,\n          821\n        ],\n        \"semantic_type\": \"\",\n        \"description\": \"\"\n      }\n    },\n    {\n      \"column\": \"movie_id\",\n      \"properties\": {\n        \"dtype\": \"number\",\n        \"std\": 330,\n        \"min\": 1,\n        \"max\": 1682,\n        \"num_unique_values\": 1682,\n        \"samples\": [\n          1557,\n          808,\n          1618\n        ],\n        \"semantic_type\": \"\",\n        \"description\": \"\"\n      }\n    },\n    {\n      \"column\": \"rating\",\n      \"properties\": {\n        \"dtype\": \"number\",\n        \"std\": 1,\n        \"min\": 1,\n        \"max\": 5,\n        \"num_unique_values\": 5,\n        \"samples\": [\n          1,\n          5,\n          2\n        ],\n        \"semantic_type\": \"\",\n        \"description\": \"\"\n      }\n    },\n    {\n      \"column\": \"timestamp\",\n      \"properties\": {\n        \"dtype\": \"number\",\n        \"std\": 5343856,\n        \"min\": 874724710,\n        \"max\": 893286638,\n        \"num_unique_values\": 49282,\n        \"samples\": [\n          889728713,\n          888443306,\n          880605158\n        ],\n        \"semantic_type\": \"\",\n        \"description\": \"\"\n      }\n    },\n    {\n      \"column\": \"title\",\n      \"properties\": {\n        \"dtype\": \"category\",\n        \"num_unique_values\": 1664,\n        \"samples\": [\n          \"House Party 3 (1994)\",\n          \"Three Colors: White (1994)\",\n          \"Fish Called Wanda, A (1988)\"\n        ],\n        \"semantic_type\": \"\",\n        \"description\": \"\"\n      }\n    }\n  ]\n}"
            }
          },
          "metadata": {},
          "execution_count": 7
        }
      ]
    },
    {
      "cell_type": "markdown",
      "source": [
        "## Step 3: Split Data and Create Matrics\n",
        "I split the dataset into training and test sets, then created user-item matrices using pivot_table to organize ratings with users as rows and movie IDs as columns for both sets."
      ],
      "metadata": {
        "id": "JKRJHoUdZydF"
      }
    },
    {
      "cell_type": "code",
      "source": [
        "train_data, test_data = train_test_split(data, test_size=0.2, random_state=42)\n",
        "\n",
        "# Create user-item matrices using movie_id\n",
        "train_matrix = train_data.pivot_table(index=\"user_id\", columns=\"movie_id\", values=\"rating\")\n",
        "test_matrix = test_data.pivot_table(index=\"user_id\", columns=\"movie_id\", values=\"rating\")"
      ],
      "metadata": {
        "id": "gRbVRQs1XoRs"
      },
      "execution_count": 9,
      "outputs": []
    },
    {
      "cell_type": "markdown",
      "source": [
        "## Step 4: User-Based Collaborative Filtering\n",
        "I computed user similarity using cosine similarity on the filled training matrix, then defined a recommend_movies function to suggest top-k movies based on similar users' ratings."
      ],
      "metadata": {
        "id": "pjQv_uFbawUu"
      }
    },
    {
      "cell_type": "code",
      "source": [
        "user_similarity = cosine_similarity(np.nan_to_num(train_matrix.fillna(0)))\n",
        "user_similarity = pd.DataFrame(user_similarity, index=train_matrix.index, columns=train_matrix.index)"
      ],
      "metadata": {
        "id": "klNnc9iHX5Ri"
      },
      "execution_count": 10,
      "outputs": []
    },
    {
      "cell_type": "code",
      "source": [
        "def recommend_movies(user_id, k=5):\n",
        "    if user_id not in train_matrix.index:\n",
        "        return []\n",
        "\n",
        "    sim_scores = user_similarity[user_id].drop(user_id)\n",
        "    sim_scores = sim_scores[sim_scores > 0]\n",
        "\n",
        "    weighted_scores = {}\n",
        "    sim_sums = {}\n",
        "\n",
        "    for neighbor, sim in sim_scores.items():\n",
        "        neighbor_ratings = train_matrix.loc[neighbor]\n",
        "        for movie, rating in neighbor_ratings.dropna().items():\n",
        "            if pd.isna(train_matrix.loc[user_id, movie]):\n",
        "                weighted_scores[movie] = weighted_scores.get(movie, 0) + sim * rating\n",
        "                sim_sums[movie] = sim_sums.get(movie, 0) + sim\n",
        "\n",
        "    predictions = {m: weighted_scores[m] / sim_sums[m] for m in weighted_scores if sim_sums[m] > 0}\n",
        "    top_movies = sorted(predictions.items(), key=lambda x: x[1], reverse=True)[:k]\n",
        "    recommendations = [(movies.set_index(\"movie_id\").loc[mid][\"title\"], score) for mid, score in top_movies]\n",
        "    return recommendations"
      ],
      "metadata": {
        "id": "JI_NsbtYYBiI"
      },
      "execution_count": 11,
      "outputs": []
    },
    {
      "cell_type": "markdown",
      "source": [
        "##Step 5: Evaluation Metrics\n",
        "I defined precision_at_k and recall_at_k functions to evaluate the recommendation quality, calculating hits against relevant movies in the test set rated 4 or higher."
      ],
      "metadata": {
        "id": "ldZDstn2a2VA"
      }
    },
    {
      "cell_type": "code",
      "source": [
        "def precision_at_k(user_id, k=5):\n",
        "    if user_id not in train_matrix.index:\n",
        "        return 0\n",
        "    recommended = recommend_movies(user_id, k)\n",
        "    if not recommended:\n",
        "        return 0\n",
        "    recommended_movies = [movies[movies[\"title\"] == title][\"movie_id\"].values[0] for title, _ in recommended]\n",
        "    relevant_movies = test_matrix.loc[user_id][test_matrix.loc[user_id] >= 4].dropna().index.tolist()\n",
        "    if not relevant_movies:\n",
        "        return 0\n",
        "    hits = len(set(recommended_movies) & set(relevant_movies))\n",
        "    return hits / k\n",
        "\n",
        "def recall_at_k(user_id, k=5):\n",
        "    if user_id not in train_matrix.index:\n",
        "        return 0\n",
        "    recommended = recommend_movies(user_id, k)\n",
        "    if not recommended:\n",
        "        return 0\n",
        "    recommended_movies = [movies[movies[\"title\"] == title][\"movie_id\"].values[0] for title, _ in recommended]\n",
        "    relevant_movies = test_matrix.loc[user_id][test_matrix.loc[user_id] >= 4].dropna().index.tolist()\n",
        "    if not relevant_movies:\n",
        "        return 0\n",
        "    hits = len(set(recommended_movies) & set(relevant_movies))\n",
        "    return hits / len(relevant_movies) if relevant_movies else 0"
      ],
      "metadata": {
        "id": "nf7kircuYCPI"
      },
      "execution_count": 15,
      "outputs": []
    },
    {
      "cell_type": "markdown",
      "source": [
        "##Step 6: Aggregate Evaluation\n",
        "I evaluated the system by calculating mean precision and recall for a subset of users, limiting to the first 100 for efficiency."
      ],
      "metadata": {
        "id": "yDL-H_tda61T"
      }
    },
    {
      "cell_type": "code",
      "source": [
        "k = 5\n",
        "users = test_data[\"user_id\"].unique()[:100]  # Limit to 100 users\n",
        "precisions = []\n",
        "recalls = []\n",
        "\n",
        "# Precompute relevant movies for all users\n",
        "relevant = test_matrix[test_matrix >= 4].stack().reset_index()\n",
        "relevant.columns = [\"user_id\", \"movie_id\", \"rating\"]  # Rename columns explicitly\n",
        "relevant = relevant[relevant[\"user_id\"].isin(users)].set_index(\"user_id\")\n",
        "\n",
        "for user in users:\n",
        "    p = precision_at_k(user, k)\n",
        "    r = recall_at_k(user, k)\n",
        "    if p is not None and p > 0:  # Skip None or zero\n",
        "        precisions.append(p)\n",
        "    if r is not None and r > 0:\n",
        "        recalls.append(r)\n",
        "\n",
        "print(f\"Mean Precision@{k}: {np.mean(precisions) if precisions else 0:.4f}\")\n",
        "print(f\"Mean Recall@{k}: {np.mean(recalls) if recalls else 0:.4f}\")"
      ],
      "metadata": {
        "colab": {
          "base_uri": "https://localhost:8080/"
        },
        "id": "rGtxfvb-YHl6",
        "outputId": "76e915a4-82fb-4d92-e5a5-8fc9c349f531"
      },
      "execution_count": 17,
      "outputs": [
        {
          "output_type": "stream",
          "name": "stdout",
          "text": [
            "Mean Precision@5: 0.2000\n",
            "Mean Recall@5: 0.0283\n"
          ]
        }
      ]
    },
    {
      "cell_type": "markdown",
      "source": [
        "##Bonus Step 7: Item-Based Collaborative Filtering\n",
        "I implemented item-based collaborative filtering by computing item similarity and created a recommend_item_based function to recommend movies based on similar items."
      ],
      "metadata": {
        "id": "nnCXPlRMa_pE"
      }
    },
    {
      "cell_type": "code",
      "source": [
        "item_similarity = cosine_similarity(np.nan_to_num(train_matrix.T.fillna(0)))\n",
        "item_similarity = pd.DataFrame(item_similarity, index=train_matrix.columns, columns=train_matrix.columns)\n",
        "\n",
        "def recommend_item_based(user_id, k=5):\n",
        "    if user_id not in train_matrix.index:\n",
        "        return []\n",
        "    user_ratings = train_matrix.loc[user_id].dropna()\n",
        "    scores = {}\n",
        "    sim_sums = {}\n",
        "    for movie, rating in user_ratings.items():\n",
        "        sim_movies = item_similarity[movie].drop(movie)\n",
        "        sim_movies = sim_movies[sim_movies > 0]\n",
        "        for sim_movie, sim in sim_movies.items():\n",
        "            if pd.isna(train_matrix.loc[user_id, sim_movie]):\n",
        "                scores[sim_movie] = scores.get(sim_movie, 0) + sim * rating\n",
        "                sim_sums[sim_movie] = sim_sums.get(sim_movie, 0) + sim\n",
        "    predictions = {m: scores[m] / sim_sums[m] for m in scores if sim_sums[m] > 0}\n",
        "    top_movies = sorted(predictions.items(), key=lambda x: x[1], reverse=True)[:k]\n",
        "    recommendations = [(movies.set_index(\"movie_id\").loc[mid][\"title\"], score) for mid, score in top_movies]\n",
        "    return recommendations"
      ],
      "metadata": {
        "id": "S-be3UAqYK95"
      },
      "execution_count": 18,
      "outputs": []
    },
    {
      "cell_type": "markdown",
      "source": [
        "##Bonus Step 8: Matrix Factorization with SVD\n",
        "I applied SVD for matrix factorization, computed user and item factors, and defined a recommend_svd function to generate recommendations using latent factors."
      ],
      "metadata": {
        "id": "RrHZ4yxabF3n"
      }
    },
    {
      "cell_type": "code",
      "source": [
        "matrix_filled = train_matrix.fillna(0)\n",
        "svd = TruncatedSVD(n_components=50, random_state=42)\n",
        "user_factors = svd.fit_transform(matrix_filled)\n",
        "item_factors = svd.components_.T\n",
        "\n",
        "def recommend_svd(user_id, k=5):\n",
        "    if user_id not in train_matrix.index:\n",
        "        return []\n",
        "    user_idx = list(train_matrix.index).index(user_id)\n",
        "    user_vec = user_factors[user_idx]\n",
        "    pred_ratings = np.dot(user_vec, item_factors.T)\n",
        "    seen_movies = train_matrix.loc[user_id].dropna().index\n",
        "    unseen_movies = [m for m in train_matrix.columns if m not in seen_movies]\n",
        "    pred_dict = {m: pred_ratings[list(train_matrix.columns).index(m)] for m in unseen_movies}\n",
        "    top_movies = sorted(pred_dict.items(), key=lambda x: x[1], reverse=True)[:k]\n",
        "    recommendations = [(movies.set_index(\"movie_id\").loc[mid][\"title\"], score) for mid, score in top_movies]\n",
        "    return recommendations"
      ],
      "metadata": {
        "id": "ICj-ToM0bDWL"
      },
      "execution_count": 19,
      "outputs": []
    },
    {
      "cell_type": "markdown",
      "source": [
        "##Step 9: Test All Methods\n",
        "I tested all recommendation methods for a sample user to compare their outputs."
      ],
      "metadata": {
        "id": "IqxIfqNrbMJX"
      }
    },
    {
      "cell_type": "code",
      "source": [
        "user_id = 1\n",
        "print(\"User-Based:\", recommend_movies(user_id, k=5))\n",
        "print(\"Item-Based:\", recommend_item_based(user_id, k=5))\n",
        "print(\"SVD:\", recommend_svd(user_id, k=5))"
      ],
      "metadata": {
        "colab": {
          "base_uri": "https://localhost:8080/"
        },
        "id": "_ZzdRR_9bJRW",
        "outputId": "f68f2020-c100-4208-96b7-3bade4b53e40"
      },
      "execution_count": 20,
      "outputs": [
        {
          "output_type": "stream",
          "name": "stdout",
          "text": [
            "User-Based: [('Prefontaine (1997)', 5.000000000000001), ('Perfect Candidate, A (1996)', 5.0), ('Marlene Dietrich: Shadow and Light (1996) ', 5.0), ('Delta of Venus (1994)', 5.0), ('Saint of Fort Washington, The (1993)', 5.0)]\n",
            "Item-Based: [('Further Gesture, A (1996)', 4.535520418144707), (\"C'est arrivé près de chez vous (1992)\", 4.425031280328295), (\"Some Mother's Son (1996)\", 4.270570244345701), ('Guantanamera (1994)', 4.257253244849679), ('A Chef in Love (1996)', 4.247623734753724)]\n",
            "SVD: [('Heat (1995)', np.float64(3.278345490826269)), ('Blues Brothers, The (1980)', np.float64(3.0351139507680998)), ('Piano, The (1993)', np.float64(2.8231493097487643)), ('Reservoir Dogs (1992)', np.float64(2.717629487031369)), ('My Left Foot (1989)', np.float64(2.705065114242167))]\n"
          ]
        }
      ]
    },
    {
      "cell_type": "code",
      "source": [],
      "metadata": {
        "id": "rRrYl8tphF26"
      },
      "execution_count": null,
      "outputs": []
    }
  ]
}